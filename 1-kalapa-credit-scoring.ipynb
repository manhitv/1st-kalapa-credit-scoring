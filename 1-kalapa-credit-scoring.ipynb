{
 "cells": [
  {
   "cell_type": "markdown",
   "metadata": {
    "papermill": {
     "duration": 0.016225,
     "end_time": "2020-09-24T03:04:25.233537",
     "exception": false,
     "start_time": "2020-09-24T03:04:25.217312",
     "status": "completed"
    },
    "tags": []
   },
   "source": [
    "# 1. Library & Input data"
   ]
  },
  {
   "cell_type": "code",
   "execution_count": 1,
   "metadata": {
    "_cell_guid": "b1076dfc-b9ad-4769-8c92-a6c4dae69d19",
    "_uuid": "8f2839f25d086af736a60e9eeb907d3b93b6e0e5",
    "execution": {
     "iopub.execute_input": "2020-09-24T03:04:25.267071Z",
     "iopub.status.busy": "2020-09-24T03:04:25.266425Z",
     "iopub.status.idle": "2020-09-24T03:04:26.723332Z",
     "shell.execute_reply": "2020-09-24T03:04:26.721930Z"
    },
    "papermill": {
     "duration": 1.474771,
     "end_time": "2020-09-24T03:04:26.723478",
     "exception": false,
     "start_time": "2020-09-24T03:04:25.248707",
     "status": "completed"
    },
    "tags": []
   },
   "outputs": [],
   "source": [
    "import pandas as pd\n",
    "import numpy as np\n",
    "\n",
    "from matplotlib import pyplot as plt\n",
    "import seaborn as sns\n",
    "plt.style.use('fivethirtyeight')\n",
    "\n",
    "from datetime import datetime\n",
    "from unidecode import unidecode\n",
    "from itertools import combinations\n",
    "\n",
    "from sklearn.model_selection import cross_val_score, StratifiedKFold\n",
    "from sklearn.metrics import roc_auc_score\n",
    "\n",
    "from catboost import CatBoostClassifier\n",
    "from lightgbm import LGBMClassifier\n",
    "\n",
    "import category_encoders as ce\n",
    "\n",
    "import re\n",
    "import warnings\n",
    "warnings.filterwarnings('ignore')"
   ]
  },
  {
   "cell_type": "code",
   "execution_count": 2,
   "metadata": {
    "execution": {
     "iopub.execute_input": "2020-09-24T03:04:26.757326Z",
     "iopub.status.busy": "2020-09-24T03:04:26.756692Z",
     "iopub.status.idle": "2020-09-24T03:04:29.001703Z",
     "shell.execute_reply": "2020-09-24T03:04:29.000989Z"
    },
    "papermill": {
     "duration": 2.262817,
     "end_time": "2020-09-24T03:04:29.001838",
     "exception": false,
     "start_time": "2020-09-24T03:04:26.739021",
     "status": "completed"
    },
    "tags": []
   },
   "outputs": [],
   "source": [
    "train = pd.read_csv('./data/train.csv')\n",
    "test = pd.read_csv('./data/test.csv')"
   ]
  },
  {
   "cell_type": "markdown",
   "metadata": {
    "papermill": {
     "duration": 0.014991,
     "end_time": "2020-09-24T03:04:29.032524",
     "exception": false,
     "start_time": "2020-09-24T03:04:29.017533",
     "status": "completed"
    },
    "tags": []
   },
   "source": [
    "# 2. Feature Engineering"
   ]
  },
  {
   "cell_type": "code",
   "execution_count": 3,
   "metadata": {
    "execution": {
     "iopub.execute_input": "2020-09-24T03:04:29.084911Z",
     "iopub.status.busy": "2020-09-24T03:04:29.079520Z",
     "iopub.status.idle": "2020-09-24T03:04:29.098308Z",
     "shell.execute_reply": "2020-09-24T03:04:29.097267Z"
    },
    "papermill": {
     "duration": 0.050479,
     "end_time": "2020-09-24T03:04:29.098502",
     "exception": false,
     "start_time": "2020-09-24T03:04:29.048023",
     "status": "completed"
    },
    "tags": []
   },
   "outputs": [
    {
     "name": "stdout",
     "output_type": "stream",
     "text": [
      "37 27 12 11 87\n"
     ]
    }
   ],
   "source": [
    "# Drop some columns are duplicated, with correlation = NaN\n",
    "ignore_columns = ([\"gioiTinh\", \"info_social_sex\", \"ngaySinh\", \"namSinh\"] + \n",
    "        [f\"Field_{c}\" for c in [14, 16, 17, 24, 26, 30, 31, 37, 52, 57]] + \n",
    "        ['partner0_K', 'partner0_L', \n",
    "         'partner1_B', 'partner1_D', 'partner1_E', 'partner1_F', 'partner1_K', 'partner1_L',\n",
    "         'partner2_B', 'partner2_G', 'partner2_K', 'partner2_L',\n",
    "         'partner3_B', 'partner3_C', 'partner3_F', 'partner3_G', 'partner3_H', 'partner3_K', 'partner3_L',\n",
    "         *['partner4_' + i for i in 'ABCDEFGHK'],\n",
    "         'partner5_B', 'partner5_C', 'partner5_H', 'partner5_K', 'partner5_L'])\n",
    "\n",
    "# Some auto columns could make new better columns\n",
    "all_auto_columns = list(set([c for c in train.columns if train[c].dtype in [np.int64, np.float64]])\n",
    "                    .difference(ignore_columns + ['currentLocationLocationId', 'homeTownLocationId', 'label', 'id']))\n",
    "\n",
    "auto_columns_1 = [c for c in all_auto_columns if 'Field_' in c]\n",
    "auto_columns_2 = [c for c in all_auto_columns if 'partner' in c]\n",
    "auto_columns_3 = [c for c in all_auto_columns if 'num' in c]\n",
    "auto_columns_4 = [c for c in all_auto_columns if c not in auto_columns_1 + auto_columns_2 + auto_columns_3]\n",
    "print(len(auto_columns_1), len(auto_columns_2), len(auto_columns_3), len(auto_columns_4), len(all_auto_columns))"
   ]
  },
  {
   "cell_type": "markdown",
   "metadata": {
    "papermill": {
     "duration": 0.015933,
     "end_time": "2020-09-24T03:04:29.132380",
     "exception": false,
     "start_time": "2020-09-24T03:04:29.116447",
     "status": "completed"
    },
    "tags": []
   },
   "source": [
    "### 2.1. Datetime columns\n",
    "##### * Preprocessing\n",
    "- Drop duplicated columns (which have correlation = NaN)\n",
    "##### * Transformation\n",
    "- Transform to the same format (%Y-%m-%d)\n",
    "- Delta of similar columns (similar value, even distance)\n",
    "- Days from now, weekday\n",
    "- Delta of pairs (`_end`, `_start`)\n",
    "- Delta of pairs (`A_start`, `G_start`), (`A_end`, `G_end`)\n",
    "- All columns to category (%Y-%m)"
   ]
  },
  {
   "cell_type": "code",
   "execution_count": 4,
   "metadata": {
    "execution": {
     "iopub.execute_input": "2020-09-24T03:04:29.194441Z",
     "iopub.status.busy": "2020-09-24T03:04:29.178700Z",
     "iopub.status.idle": "2020-09-24T03:04:29.197362Z",
     "shell.execute_reply": "2020-09-24T03:04:29.198022Z"
    },
    "papermill": {
     "duration": 0.049883,
     "end_time": "2020-09-24T03:04:29.198185",
     "exception": false,
     "start_time": "2020-09-24T03:04:29.148302",
     "status": "completed"
    },
    "tags": []
   },
   "outputs": [],
   "source": [
    "date_cols = [\"Field_{}\".format(i) for i in [5, 6, 7, 8, 9, 11, 15, 25, 32, 33, 35, 40]]\n",
    "datetime_cols = [\"Field_{}\".format(i) for i in [1, 2, 43, 44]]\n",
    "correct_dt_cols = ['Field_34', 'ngaySinh']\n",
    "cat_cols = date_cols + datetime_cols + correct_dt_cols\n",
    "\n",
    "# Normalize Field_34, ngaySinh\n",
    "def ngaysinh_34_normalize(s):\n",
    "    if s != s: return np.nan\n",
    "    try: s = int(s)\n",
    "    except ValueError: s = s.split(\" \")[0]\n",
    "    return datetime.strptime(str(s)[:6], \"%Y%m\")\n",
    "\n",
    "# Normalize datetime data\n",
    "def datetime_normalize(s):\n",
    "    if s != s: return np.nan\n",
    "    s = s.split(\".\")[0]\n",
    "    if s[-1] == \"Z\": s = s[:-1]\n",
    "    return datetime.strptime(s, \"%Y-%m-%dT%H:%M:%S\")\n",
    "\n",
    "# Normalize date data\n",
    "def date_normalize(s):\n",
    "    if s != s: return np.nan\n",
    "    try: t = datetime.strptime(s, \"%m/%d/%Y\")\n",
    "    except: t = datetime.strptime(s, \"%Y-%m-%d\")\n",
    "    return t\n",
    "\n",
    "def process_datetime_cols(df):\n",
    "    df[datetime_cols] = df[datetime_cols].applymap(datetime_normalize)  \n",
    "    df[date_cols] = df[date_cols].applymap(date_normalize)\n",
    "    df[correct_dt_cols] = df[correct_dt_cols].applymap(ngaysinh_34_normalize)\n",
    "\n",
    "    # Some delta columns\n",
    "    for i, j in zip('43 1 2'.split(), '1 2 44'.split()): df[f'DT_{j}_{i}'] = (df[f'Field_{j}'] - df[f'Field_{i}']).dt.seconds\n",
    "    for i, j in zip('5 6 7 33 8 11 9 15 25 6 7 8 9 15 25 2'.split(), '6 34 33 40 11 35 15 25 32 7 8 9 15 25 32 8'.split()): \n",
    "        df[f'DT_{j}_{i}'] = (df[f'Field_{j}'] - df[f'Field_{i}']).dt.days\n",
    "    \n",
    "    # Age, month\n",
    "    df['age'] = 2020 - pd.DatetimeIndex(df['ngaySinh']).year\n",
    "    df['birth_month'] = pd.DatetimeIndex(df['ngaySinh']).month\n",
    "    \n",
    "    # Days from current time & isWeekday\n",
    "    for col in cat_cols:\n",
    "        name = col.split('_')[-1]\n",
    "        df[f'is_WD_{name}'] = df[col].dt.dayofweek.isin(range(5))\n",
    "        df[f'days_from_now_{name}'] = (datetime.now() - pd.DatetimeIndex(df[col])).days\n",
    "        df[col] = df[col].dt.strftime('%m-%Y')\n",
    "    \n",
    "    # Delta for x_startDate and x_endDate\n",
    "    for cat in ['F', 'E', 'C', 'G', 'A']:\n",
    "        df[f'{cat}_startDate'] = pd.to_datetime(df[f\"{cat}_startDate\"], infer_datetime_format=True)\n",
    "        df[f'{cat}_endDate'] = pd.to_datetime(df[f\"{cat}_endDate\"], infer_datetime_format=True)\n",
    "        \n",
    "        df[f'{cat}_start_end'] = (df[f'{cat}_endDate'] - df[f'{cat}_startDate']).dt.days\n",
    "        \n",
    "    for i, j in zip('F E C G'.split(), 'E C G A'.split()):\n",
    "        df[f'{j}_{i}_startDate'] = (df[f'{j}_startDate'] - df[f'{i}_startDate']).dt.days\n",
    "        df[f'{j}_{i}_endDate'] = (df[f'{j}_endDate'] - df[f'{i}_endDate']).dt.days\n",
    "    \n",
    "    temp_date = [f'{i}_startDate' for i in 'ACEFG'] + [f'{i}_endDate' for i in 'ACEFG']\n",
    "    \n",
    "    for col in temp_date:\n",
    "        df[col] = df[col].dt.strftime('%m-%Y')\n",
    "        \n",
    "    for col in cat_cols + temp_date:\n",
    "        df[col] = df[col].astype(\"category\")\n",
    "        \n",
    "    return df"
   ]
  },
  {
   "cell_type": "markdown",
   "metadata": {
    "papermill": {
     "duration": 0.016394,
     "end_time": "2020-09-24T03:04:29.230494",
     "exception": false,
     "start_time": "2020-09-24T03:04:29.214100",
     "status": "completed"
    },
    "tags": []
   },
   "source": [
    "### 2.2. Categorical columns\n",
    "##### * Transformation\n",
    "- Replace multiple space to one space only\n",
    "- Transform to unicode format\n",
    "- Keep city and district only\n",
    "- Normalize some special columns: 'I', 'One' -> 1, 'Zezo' -> 0\n",
    "- Compare current city/state with hometown\n",
    "- All columns to category"
   ]
  },
  {
   "cell_type": "code",
   "execution_count": 5,
   "metadata": {
    "execution": {
     "iopub.execute_input": "2020-09-24T03:04:29.285511Z",
     "iopub.status.busy": "2020-09-24T03:04:29.284774Z",
     "iopub.status.idle": "2020-09-24T03:04:29.288537Z",
     "shell.execute_reply": "2020-09-24T03:04:29.287982Z"
    },
    "papermill": {
     "duration": 0.042297,
     "end_time": "2020-09-24T03:04:29.288648",
     "exception": false,
     "start_time": "2020-09-24T03:04:29.246351",
     "status": "completed"
    },
    "tags": []
   },
   "outputs": [],
   "source": [
    "unicode_cols = ['Field_18', 'maCv', 'diaChi', 'Field_46', 'Field_48', 'Field_49', 'Field_56', 'Field_61', 'homeTownCity', \n",
    "                'homeTownName', 'currentLocationCity', 'currentLocationName', 'currentLocationState', 'homeTownState']\n",
    "object_cols = (unicode_cols + \n",
    "               [f'Field_{str(i)}' for i in '4 12 36 38 47 62 45 54 55 65 66 68'.split()] +\n",
    "               ['data.basic_info.locale', 'currentLocationCountry', 'homeTownCountry', 'brief'])\n",
    "\n",
    "def str_normalize(s):\n",
    "    s = str(s).strip().lower()\n",
    "    s = re.sub(' +', \" \", s)\n",
    "    return s\n",
    "\n",
    "def combine_gender(s):\n",
    "    x, y = s \n",
    "    if x != x and y != y: return \"nan\"\n",
    "    if x != x: return y.lower()\n",
    "    return x.lower()\n",
    "\n",
    "def process_categorical_cols(df):\n",
    "    df['diaChi'] = df['diaChi'].str.split(',').str[-1]\n",
    "    df[unicode_cols] = df[unicode_cols].applymap(str_normalize).applymap(lambda x: unidecode(x) if x==x else x)\n",
    "    \n",
    "    # Normalize some columns\n",
    "    df[\"Field_38\"] = df[\"Field_38\"].map({0: 0.0, 1: 1.0, \"DN\": np.nan, \"TN\": np.nan, \"GD\": np.nan})\n",
    "    df[\"Field_62\"] = df[\"Field_62\"].map({\"I\": 1, \"II\": 2, \"III\": 3, \"IV\": 4, \"V\": 5, \"Ngoài quốc doanh Quận 7\": np.nan})\n",
    "    df[\"Field_47\"] = df[\"Field_47\"].map({\"Zezo\": 0, \"One\": 1, \"Two\": 2, \"Three\": 3, \"Four\": 4})\n",
    "    \n",
    "    # Make some new features\n",
    "    df['Field_45_Q'] = df['Field_45'].str[:-3].astype('category')\n",
    "    df['Field_45_TP_55'] = df['Field_45'].str[:2] == df['Field_55']\n",
    "    df['is_homeTown_diaChi'] = df['homeTownCity'] == df['diaChi']\n",
    "    df['is_homeTown_current_city'] = df['homeTownCity'] == df['currentLocationCity']\n",
    "    df['is_homeTown_current_state'] = df['homeTownState'] == df['currentLocationState']\n",
    "    df['F48_49'] = df['Field_48'] == df['Field_49']\n",
    "    \n",
    "    df[\"gender\"] = df[[\"gioiTinh\", \"info_social_sex\"]].apply(combine_gender, axis=1).astype(\"category\")\n",
    "    \n",
    "    df[[\"currentLocationLocationId\", \"homeTownLocationId\", \"currentLocationLatitude\", \"currentLocationLongitude\", \n",
    "        \"homeTownLatitude\", \"homeTownLongitude\"]].replace(0, np.nan, inplace=True) # value == 0: noisy\n",
    "\n",
    "    df[[\"currentLocationLocationId\", \"homeTownLocationId\"]] = (df[[\"currentLocationLocationId\", \"homeTownLocationId\"]]\n",
    "                                                             .applymap(str_normalize).astype(\"category\"))\n",
    "    df[object_cols] = df[object_cols].astype('category')\n",
    "    \n",
    "    return df"
   ]
  },
  {
   "cell_type": "markdown",
   "metadata": {
    "papermill": {
     "duration": 0.015792,
     "end_time": "2020-09-24T03:04:29.320817",
     "exception": false,
     "start_time": "2020-09-24T03:04:29.305025",
     "status": "completed"
    },
    "tags": []
   },
   "source": [
    "### 2.3. Others\n",
    "##### * Preprocessing\n",
    "- Automatic columns: `Field_`, `partner_`, `num_` and remainder (ignore if too large)\n",
    "##### * Transformation\n",
    "- Features with related values such as (`Field_27`, `Field_28`), (`Field_59`, `Field_60`), (`Field_63`, `Field_64`) --> delta\n",
    "- Statistic with `_partner`: mean/median\n",
    "- Count number of missing values, True, False\n",
    "- Apply add, subtract, multiply, divide for automatic columns\n",
    "- Count encoding on categorical features"
   ]
  },
  {
   "cell_type": "code",
   "execution_count": 6,
   "metadata": {
    "execution": {
     "iopub.execute_input": "2020-09-24T03:04:29.374990Z",
     "iopub.status.busy": "2020-09-24T03:04:29.373270Z",
     "iopub.status.idle": "2020-09-24T03:04:29.378389Z",
     "shell.execute_reply": "2020-09-24T03:04:29.377702Z"
    },
    "papermill": {
     "duration": 0.041654,
     "end_time": "2020-09-24T03:04:29.378511",
     "exception": false,
     "start_time": "2020-09-24T03:04:29.336857",
     "status": "completed"
    },
    "tags": []
   },
   "outputs": [],
   "source": [
    "# New feature from columns 63, 64\n",
    "def process_63_64(z):\n",
    "    x, y = z\n",
    "    if x != x and y != y:\n",
    "        return np.nan\n",
    "    if (x, y) in [(1.0, 2.0), (2.0, 3.0), (3.0, 4.0), (4.0, 8.0), (7.0, 5.0), (5.0, 6.0), (9.0, 43.0), (8.0, 9.0)]: return True\n",
    "    else: return False\n",
    "    \n",
    "def process_others(df):        \n",
    "    df[[\"Field_27\", \"Field_28\"]].replace(0.0, np.nan, inplace=True)\n",
    "    df['F18_isnumeric'] = df['Field_18'].str.isnumeric()\n",
    "    df['F18_isalpha'] = df['Field_18'].str.isalpha()\n",
    "    \n",
    "    # Delta from some pairs of columns\n",
    "    for i, j in [(20, 27), (28, 27), (39, 41), (41, 42), (50, 51), (51, 53)]:\n",
    "        df[f'F{str(i)}_{str(j)}_delta'] = df[f'Field_{str(j)}'] - df[f'Field_{str(i)}']\n",
    "    df['F_59_60'] = df['Field_59'] - df['Field_60'] - 2\n",
    "    df['F_63_64'] = df[['Field_63', 'Field_64']].apply(process_63_64, axis=1).astype('category')\n",
    "    \n",
    "    # Mean, std from partnerX columns\n",
    "    for i in '1 2 3 4 5'.split():\n",
    "        col = [c for c in df.columns if f'partner{i}' in c]\n",
    "        df[f'partner{i}_mean'] = df[col].mean(axis=1)\n",
    "        df[f'partner{i}_std'] = df[col].std(axis=1)\n",
    "\n",
    "    # Reference columns\n",
    "    columns = set(df.columns).difference(ignore_columns)\n",
    "    df['cnt_NaN'] = df[columns].isna().sum(axis=1)\n",
    "    df['cnt_True'] = df[columns].applymap(lambda x: isinstance(x, bool) and x).sum(axis=1)\n",
    "    df['cnt_False'] = df[columns].applymap(lambda x: isinstance(x, bool) and not x).sum(axis=1)\n",
    "\n",
    "    # Combinations of auto columns\n",
    "    lst_combination = (list(combinations(auto_columns_2, 2)) + list(combinations(auto_columns_3, 2)) + list(combinations(auto_columns_4, 2)))\n",
    "    for l, r in lst_combination:\n",
    "        for func in 'add subtract divide multiply'.split():\n",
    "            df[f'auto_{func}_{l}_{r}'] = getattr(np, func)(df[l], df[r])\n",
    "            \n",
    "    return df"
   ]
  },
  {
   "cell_type": "markdown",
   "metadata": {
    "papermill": {
     "duration": 0.016143,
     "end_time": "2020-09-24T03:04:29.411141",
     "exception": false,
     "start_time": "2020-09-24T03:04:29.394998",
     "status": "completed"
    },
    "tags": []
   },
   "source": [
    "### 2.4. Combine all parts"
   ]
  },
  {
   "cell_type": "code",
   "execution_count": 7,
   "metadata": {
    "execution": {
     "iopub.execute_input": "2020-09-24T03:04:29.455015Z",
     "iopub.status.busy": "2020-09-24T03:04:29.454371Z",
     "iopub.status.idle": "2020-09-24T03:05:49.058438Z",
     "shell.execute_reply": "2020-09-24T03:05:49.058987Z"
    },
    "papermill": {
     "duration": 79.631809,
     "end_time": "2020-09-24T03:05:49.059148",
     "exception": false,
     "start_time": "2020-09-24T03:04:29.427339",
     "status": "completed"
    },
    "tags": []
   },
   "outputs": [],
   "source": [
    "def transform(df):\n",
    "    df = process_datetime_cols(df)\n",
    "    df = process_categorical_cols(df)\n",
    "    df = process_others(df)\n",
    "    return df.drop(ignore_columns, axis=1)\n",
    "\n",
    "train = transform(train)\n",
    "test = transform(test)"
   ]
  },
  {
   "cell_type": "markdown",
   "metadata": {
    "papermill": {
     "duration": 0.016381,
     "end_time": "2020-09-24T03:05:49.095387",
     "exception": false,
     "start_time": "2020-09-24T03:05:49.079006",
     "status": "completed"
    },
    "tags": []
   },
   "source": [
    "### 2.5. Try Count Encoding"
   ]
  },
  {
   "cell_type": "code",
   "execution_count": 8,
   "metadata": {
    "execution": {
     "iopub.execute_input": "2020-09-24T03:05:49.137772Z",
     "iopub.status.busy": "2020-09-24T03:05:49.137061Z",
     "iopub.status.idle": "2020-09-24T03:05:53.150936Z",
     "shell.execute_reply": "2020-09-24T03:05:53.150371Z"
    },
    "papermill": {
     "duration": 4.034391,
     "end_time": "2020-09-24T03:05:53.151054",
     "exception": false,
     "start_time": "2020-09-24T03:05:49.116663",
     "status": "completed"
    },
    "tags": []
   },
   "outputs": [],
   "source": [
    "# Support catboost modelling\n",
    "cat_features = [c for c in train.columns if (train[c].dtype not in [np.float64, np.int64])]\n",
    "train[cat_features] = train[cat_features].astype(str)\n",
    "test[cat_features] = test[cat_features].astype(str)"
   ]
  },
  {
   "cell_type": "code",
   "execution_count": 9,
   "metadata": {
    "execution": {
     "iopub.execute_input": "2020-09-24T03:05:53.193934Z",
     "iopub.status.busy": "2020-09-24T03:05:53.192928Z",
     "iopub.status.idle": "2020-09-24T03:06:06.250590Z",
     "shell.execute_reply": "2020-09-24T03:06:06.251079Z"
    },
    "papermill": {
     "duration": 13.083874,
     "end_time": "2020-09-24T03:06:06.251254",
     "exception": false,
     "start_time": "2020-09-24T03:05:53.167380",
     "status": "completed"
    },
    "tags": []
   },
   "outputs": [
    {
     "name": "stdout",
     "output_type": "stream",
     "text": [
      "2220\n"
     ]
    }
   ],
   "source": [
    "# Create the encoder\n",
    "t = pd.concat([train, test]).reset_index(drop=True)\n",
    "count_enc = ce.CountEncoder().fit_transform(t[cat_features])\n",
    "tt = t.join(count_enc.add_suffix(\"_count\"))\n",
    "\n",
    "f2_train = tt.loc[tt.index < train.shape[0]]\n",
    "f2_test = tt.loc[tt.index >= train.shape[0]]\n",
    "\n",
    "columns = sorted(set(f2_train.columns).intersection(f2_test.columns))\n",
    "print(len(columns))"
   ]
  },
  {
   "cell_type": "markdown",
   "metadata": {
    "papermill": {
     "duration": 0.016306,
     "end_time": "2020-09-24T03:06:06.284672",
     "exception": false,
     "start_time": "2020-09-24T03:06:06.268366",
     "status": "completed"
    },
    "tags": []
   },
   "source": [
    "# 3. Modelling"
   ]
  },
  {
   "cell_type": "markdown",
   "metadata": {
    "papermill": {
     "duration": 0.016528,
     "end_time": "2020-09-24T03:06:06.317983",
     "exception": false,
     "start_time": "2020-09-24T03:06:06.301455",
     "status": "completed"
    },
    "tags": []
   },
   "source": [
    "At first, I tried LightGBM model but it just reached about 0.47 on Leaderboard. After that, I tried CatBoost model, which help my results 0.49 and above without much fine-tuning."
   ]
  },
  {
   "cell_type": "markdown",
   "metadata": {
    "papermill": {
     "duration": 0.01611,
     "end_time": "2020-09-24T03:06:06.350775",
     "exception": false,
     "start_time": "2020-09-24T03:06:06.334665",
     "status": "completed"
    },
    "tags": []
   },
   "source": [
    "### 3.1. Model"
   ]
  },
  {
   "cell_type": "code",
   "execution_count": 10,
   "metadata": {
    "execution": {
     "iopub.execute_input": "2020-09-24T03:06:06.402740Z",
     "iopub.status.busy": "2020-09-24T03:06:06.402007Z",
     "iopub.status.idle": "2020-09-24T03:52:48.314273Z",
     "shell.execute_reply": "2020-09-24T03:52:48.314890Z"
    },
    "papermill": {
     "duration": 2801.947941,
     "end_time": "2020-09-24T03:52:48.315061",
     "exception": false,
     "start_time": "2020-09-24T03:06:06.367120",
     "status": "completed"
    },
    "tags": []
   },
   "outputs": [
    {
     "name": "stdout",
     "output_type": "stream",
     "text": [
      "0:\ttest: 0.6843104\tbest: 0.6843104 (0)\ttotal: 773ms\tremaining: 12m 51s\n",
      "500:\ttest: 0.7558118\tbest: 0.7558786 (496)\ttotal: 4m 33s\tremaining: 4m 32s\n",
      "999:\ttest: 0.7534402\tbest: 0.7565121 (724)\ttotal: 9m 7s\tremaining: 0us\n",
      "\n",
      "bestTest = 0.756512111\n",
      "bestIteration = 724\n",
      "\n",
      "Shrink model to first 725 iterations.\n",
      "Fold  1 GINI : 0.51302\n",
      "0:\ttest: 0.6836593\tbest: 0.6836593 (0)\ttotal: 638ms\tremaining: 10m 37s\n",
      "500:\ttest: 0.7537790\tbest: 0.7538145 (481)\ttotal: 4m 37s\tremaining: 4m 36s\n",
      "999:\ttest: 0.7557988\tbest: 0.7558301 (998)\ttotal: 9m 12s\tremaining: 0us\n",
      "\n",
      "bestTest = 0.7558301219\n",
      "bestIteration = 998\n",
      "\n",
      "Shrink model to first 999 iterations.\n",
      "Fold  2 GINI : 0.51166\n",
      "0:\ttest: 0.6812047\tbest: 0.6812047 (0)\ttotal: 675ms\tremaining: 11m 14s\n",
      "500:\ttest: 0.7449322\tbest: 0.7449322 (500)\ttotal: 4m 37s\tremaining: 4m 36s\n",
      "999:\ttest: 0.7476775\tbest: 0.7477852 (984)\ttotal: 9m 11s\tremaining: 0us\n",
      "\n",
      "bestTest = 0.747785196\n",
      "bestIteration = 984\n",
      "\n",
      "Shrink model to first 985 iterations.\n",
      "Fold  3 GINI : 0.49557\n",
      "0:\ttest: 0.6963442\tbest: 0.6963442 (0)\ttotal: 666ms\tremaining: 11m 5s\n",
      "500:\ttest: 0.7591556\tbest: 0.7593213 (492)\ttotal: 4m 37s\tremaining: 4m 36s\n",
      "999:\ttest: 0.7582305\tbest: 0.7595322 (682)\ttotal: 9m 13s\tremaining: 0us\n",
      "\n",
      "bestTest = 0.7595322009\n",
      "bestIteration = 682\n",
      "\n",
      "Shrink model to first 683 iterations.\n",
      "Fold  4 GINI : 0.51906\n",
      "0:\ttest: 0.6689311\tbest: 0.6689311 (0)\ttotal: 665ms\tremaining: 11m 4s\n",
      "500:\ttest: 0.7412884\tbest: 0.7415824 (342)\ttotal: 4m 37s\tremaining: 4m 36s\n",
      "999:\ttest: 0.7422796\tbest: 0.7425456 (890)\ttotal: 9m 14s\tremaining: 0us\n",
      "\n",
      "bestTest = 0.7425455701\n",
      "bestIteration = 890\n",
      "\n",
      "Shrink model to first 891 iterations.\n",
      "Fold  5 GINI : 0.48509\n",
      "Avg GINI score: 0.5045338009797737\n",
      "GINI: 0.50488 +- 0.01258\n"
     ]
    }
   ],
   "source": [
    "gini, feature_importance_df = {}, pd.DataFrame()\n",
    "\n",
    "TRAIN, TEST = f2_train[columns].drop(['id', 'label'], axis=1), f2_test[columns].drop(['id', 'label'], axis=1)\n",
    "LABEL = f2_train['label']\n",
    "preds, oof_preds = np.zeros(TRAIN.shape[0]), {}\n",
    "\n",
    "cv = StratifiedKFold(n_splits=5, shuffle=True)\n",
    "for i, (train_idx, val_idx) in enumerate(cv.split(TRAIN, LABEL)):\n",
    "    X_train, y_train = TRAIN.iloc[train_idx], LABEL.iloc[train_idx]\n",
    "    X_val, y_val = TRAIN.iloc[val_idx], LABEL.iloc[val_idx]\n",
    "\n",
    "    gbm = CatBoostClassifier(eval_metric='AUC', \n",
    "                             use_best_model=True,\n",
    "                             iterations=1000, \n",
    "                             learning_rate=0.1, \n",
    "                             random_seed=42).fit(X_train, y_train, \n",
    "                                                 cat_features=set(cat_features),\n",
    "                                                 eval_set=(X_val, y_val), verbose=500)\n",
    "\n",
    "    y_pred = gbm.predict(X_val)\n",
    "    y_pred_proba = gbm.predict_proba(X_val)[:, 1]\n",
    "        \n",
    "    preds[val_idx] = y_pred_proba\n",
    "    oof_preds[f'F{i+1}'] = gbm.predict_proba(TEST)[:, 1]\n",
    "    \n",
    "    gini[f'F{i+1}'] = 2 * roc_auc_score(y_val, y_pred_proba) - 1\n",
    "    \n",
    "    # For create feature importances\n",
    "    fold_importance_df = pd.DataFrame()\n",
    "    fold_importance_df[\"feature\"] = TRAIN.columns\n",
    "    fold_importance_df[\"importance\"] = gbm.feature_importances_\n",
    "    fold_importance_df[\"fold\"] = i + 1\n",
    "    feature_importance_df = pd.concat([feature_importance_df, fold_importance_df], axis=0)\n",
    "    print('Fold %2d GINI : %.5f' % (i + 1, 2*roc_auc_score(y_val, y_pred_proba) - 1))\n",
    "    \n",
    "# Resulting\n",
    "roc_auc = roc_auc_score(LABEL, preds)\n",
    "print('Avg GINI score:', 2*roc_auc - 1)\n",
    "\n",
    "result = np.array(list(gini.values()))\n",
    "print('GINI: {:.5f} +- {:.5f}'.format(result.mean(), result.std()))"
   ]
  },
  {
   "cell_type": "markdown",
   "metadata": {
    "papermill": {
     "duration": 0.023318,
     "end_time": "2020-09-24T03:52:48.362251",
     "exception": false,
     "start_time": "2020-09-24T03:52:48.338933",
     "status": "completed"
    },
    "tags": []
   },
   "source": [
    "### 3.2. Feature importances"
   ]
  },
  {
   "cell_type": "code",
   "execution_count": 11,
   "metadata": {
    "execution": {
     "iopub.execute_input": "2020-09-24T03:52:48.422156Z",
     "iopub.status.busy": "2020-09-24T03:52:48.421515Z",
     "iopub.status.idle": "2020-09-24T03:52:49.500035Z",
     "shell.execute_reply": "2020-09-24T03:52:49.499027Z"
    },
    "papermill": {
     "duration": 1.114314,
     "end_time": "2020-09-24T03:52:49.500153",
     "exception": false,
     "start_time": "2020-09-24T03:52:48.385839",
     "status": "completed"
    },
    "tags": []
   },
   "outputs": [
    {
     "data": {
      "image/png": "[encoded data removed]",
      "text/plain": [
       "<Figure size 864x576 with 1 Axes>"
      ]
     },
     "metadata": {},
     "output_type": "display_data"
    }
   ],
   "source": [
    "def display_importances(feature_importance_df_):\n",
    "\n",
    "    cols = feature_importance_df_[[\"feature\", \"importance\"]].groupby(\"feature\").mean().sort_values(\n",
    "        by=\"importance\", ascending=False)[:20].index\n",
    "    \n",
    "    best_features = feature_importance_df_.loc[feature_importance_df_.feature.isin(cols)]\n",
    "    \n",
    "    plt.figure(figsize=(12, 8))\n",
    "    sns.barplot(x=\"importance\", y=\"feature\", \n",
    "                data=best_features.sort_values(by=\"importance\", ascending=False))\n",
    "    plt.title('LightGBM Features (avg over folds)')\n",
    "    plt.tight_layout()\n",
    "\n",
    "display_importances(feature_importance_df_=feature_importance_df)"
   ]
  },
  {
   "cell_type": "code",
   "execution_count": 12,
   "metadata": {
    "execution": {
     "iopub.execute_input": "2020-09-24T03:52:49.561099Z",
     "iopub.status.busy": "2020-09-24T03:52:49.559989Z",
     "iopub.status.idle": "2020-09-24T03:52:49.568616Z",
     "shell.execute_reply": "2020-09-24T03:52:49.567908Z"
    },
    "papermill": {
     "duration": 0.04157,
     "end_time": "2020-09-24T03:52:49.568733",
     "exception": false,
     "start_time": "2020-09-24T03:52:49.527163",
     "status": "completed"
    },
    "tags": []
   },
   "outputs": [
    {
     "data": {
      "text/plain": [
       "(1769,)"
      ]
     },
     "execution_count": 12,
     "metadata": {},
     "output_type": "execute_result"
    }
   ],
   "source": [
    "# One way could help better performance is re-training the model with dropped low important columns\n",
    "to_drop = feature_importance_df[feature_importance_df.importance == 0]['feature'].unique()\n",
    "to_drop.shape"
   ]
  },
  {
   "cell_type": "markdown",
   "metadata": {
    "papermill": {
     "duration": 0.027046,
     "end_time": "2020-09-24T03:52:49.623027",
     "exception": false,
     "start_time": "2020-09-24T03:52:49.595981",
     "status": "completed"
    },
    "tags": []
   },
   "source": [
    "# 4. Submisison"
   ]
  },
  {
   "cell_type": "code",
   "execution_count": 13,
   "metadata": {
    "execution": {
     "iopub.execute_input": "2020-09-24T03:52:49.689361Z",
     "iopub.status.busy": "2020-09-24T03:52:49.688720Z",
     "iopub.status.idle": "2020-09-24T03:52:50.551789Z",
     "shell.execute_reply": "2020-09-24T03:52:50.551163Z"
    },
    "papermill": {
     "duration": 0.901744,
     "end_time": "2020-09-24T03:52:50.551902",
     "exception": false,
     "start_time": "2020-09-24T03:52:49.650158",
     "status": "completed"
    },
    "tags": []
   },
   "outputs": [],
   "source": [
    "test['label'] = pd.DataFrame(oof_preds).mean(axis=1).values\n",
    "name = pd.Timestamp.now().strftime('%Y%m%d_%H_%M')\n",
    "test[['id', 'label']].to_csv(f'{name}.csv', index=False)"
   ]
  }
 ],
 "metadata": {
  "kernelspec": {
   "display_name": "Python 3 (ipykernel)",
   "language": "python",
   "name": "python3"
  },
  "language_info": {
   "codemirror_mode": {
    "name": "ipython",
    "version": 3
   },
   "file_extension": ".py",
   "mimetype": "text/x-python",
   "name": "python",
   "nbconvert_exporter": "python",
   "pygments_lexer": "ipython3",
   "version": "3.8.10"
  },
  "papermill": {
   "duration": 2910.269063,
   "end_time": "2020-09-24T03:52:50.788723",
   "environment_variables": {},
   "exception": null,
   "input_path": "__notebook__.ipynb",
   "output_path": "__notebook__.ipynb",
   "parameters": {},
   "start_time": "2020-09-24T03:04:20.519660",
   "version": "2.1.0"
  }
 },
 "nbformat": 4,
 "nbformat_minor": 4
}
